{
 "cells": [
  {
   "cell_type": "code",
   "execution_count": 1,
   "id": "2f4d6dce",
   "metadata": {},
   "outputs": [],
   "source": [
    "import pandas as pd\n",
    "\n",
    "# ===================== 1. 데이터 로드 =====================\n",
    "# CSV 파일을 읽어와 데이터프레임 생성\n",
    "file_path = '../data/customer_data.csv'  # 파일 경로 지정\n",
    "customer_data = pd.read_csv(file_path)  # CSV 파일 로드\n"
   ]
  },
  {
   "cell_type": "code",
   "execution_count": 2,
   "id": "afc6f02b",
   "metadata": {},
   "outputs": [
    {
     "name": "stdout",
     "output_type": "stream",
     "text": [
      "결측치 제거 후 데이터셋 크기: (900, 5)\n"
     ]
    }
   ],
   "source": [
    "# ===================== 3. 결측치 처리 =====================\n",
    "# dropna(): 결측치(NaN)가 있는 행을 제거하여 데이터 정제\n",
    "customer_data = customer_data.dropna()\n",
    "\n",
    "# 결측치 제거 후 데이터 크기 출력\n",
    "print(f\"결측치 제거 후 데이터셋 크기: {customer_data.shape}\")  \n",
    "# shape: (행, 열) 형태의 데이터 크기 출력"
   ]
  },
  {
   "cell_type": "code",
   "execution_count": 4,
   "id": "3b1402b8",
   "metadata": {},
   "outputs": [
    {
     "name": "stdout",
     "output_type": "stream",
     "text": [
      "Age 이상치 처리 전후 데이터셋 크기: (900, 5) -> (899, 5)\n",
      "AnnualIncome 이상치 처리 전후 데이터셋 크기: (899, 5) -> (899, 5)\n"
     ]
    }
   ],
   "source": [
    "# ===================== 4. 이상치 탐지 및 처리 =====================\n",
    "# 이상치를 탐지하기 위해 IQR(Interquartile Range, 사분위 범위) 방법 사용\n",
    "for column in ['Age', 'AnnualIncome']:  # 이상치를 탐지할 컬럼 선택\n",
    "    Q1 = customer_data[column].quantile(0.25)  # 1사분위(Q1, 25% 지점)\n",
    "    Q3 = customer_data[column].quantile(0.75)  # 3사분위(Q3, 75% 지점)\n",
    "    IQR = Q3 - Q1  # 사분위 범위 (IQR = Q3 - Q1)\n",
    "\n",
    "    # 이상치 경계값 설정\n",
    "    lower_bound = Q1 - 1.5 * IQR  # 하한값: Q1 - 1.5 * IQR\n",
    "    upper_bound = Q3 + 1.5 * IQR  # 상한값: Q3 + 1.5 * IQR\n",
    "\n",
    "    # 기존 데이터 크기 저장\n",
    "    initial_shape = customer_data.shape  \n",
    "\n",
    "    # 이상치를 제거한 데이터프레임 생성 (lower_bound보다 크거나 upper_bound보다 작은 데이터만 남김)\n",
    "    customer_data = customer_data[(customer_data[column] >= lower_bound) & (customer_data[column] <= upper_bound)]\n",
    "\n",
    "    # 이상치 처리 전후 데이터 크기 출력\n",
    "    print(f\"{column} 이상치 처리 전후 데이터셋 크기: {initial_shape} -> {customer_data.shape}\")"
   ]
  }
 ],
 "metadata": {
  "kernelspec": {
   "display_name": "Python 3",
   "language": "python",
   "name": "python3"
  },
  "language_info": {
   "codemirror_mode": {
    "name": "ipython",
    "version": 3
   },
   "file_extension": ".py",
   "mimetype": "text/x-python",
   "name": "python",
   "nbconvert_exporter": "python",
   "pygments_lexer": "ipython3",
   "version": "3.11.9"
  }
 },
 "nbformat": 4,
 "nbformat_minor": 5
}
